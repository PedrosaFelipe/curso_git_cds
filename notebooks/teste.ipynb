{
 "cells": [
  {
   "cell_type": "code",
   "execution_count": 1,
   "metadata": {},
   "outputs": [
    {
     "name": "stdout",
     "output_type": "stream",
     "text": [
      "dev - celula1\n"
     ]
    }
   ],
   "source": [
    "print('dev - celula1')"
   ]
  },
  {
   "cell_type": "code",
   "execution_count": 2,
   "metadata": {},
   "outputs": [
    {
     "name": "stdout",
     "output_type": "stream",
     "text": [
      "dev - celula2\n"
     ]
    }
   ],
   "source": [
    "print('dev - celula2')"
   ]
  },
  {
   "cell_type": "code",
   "execution_count": 3,
   "metadata": {},
   "outputs": [
    {
     "name": "stdout",
     "output_type": "stream",
     "text": [
      "dev - celula3\n"
     ]
    }
   ],
   "source": [
    "print('dev - celula3')"
   ]
  }
 ],
 "metadata": {
  "kernelspec": {
   "display_name": "curso_git",
   "language": "python",
   "name": "python3"
  },
  "language_info": {
   "codemirror_mode": {
    "name": "ipython",
    "version": 3
   },
   "file_extension": ".py",
   "mimetype": "text/x-python",
   "name": "python",
   "nbconvert_exporter": "python",
   "pygments_lexer": "ipython3",
   "version": "3.9.15"
  },
  "orig_nbformat": 4,
  "vscode": {
   "interpreter": {
    "hash": "8a0b2a10a70c52426eec6ced2df4af35468c55ae300f5760a84099f9591d46fa"
   }
  }
 },
 "nbformat": 4,
 "nbformat_minor": 2
}
