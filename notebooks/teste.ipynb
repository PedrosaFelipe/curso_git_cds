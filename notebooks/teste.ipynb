{
 "cells": [
  {
   "cell_type": "markdown",
   "id": "8018fe74",
   "metadata": {},
   "source": [
    "<span style=\"color:red\">**<<<<<<< local**</span>"
   ]
  },
  {
   "cell_type": "code",
   "execution_count": 4,
   "metadata": {},
   "outputs": [
    {
     "name": "stdout",
     "output_type": "stream",
     "text": [
      "main - linha1\n"
     ]
    }
   ],
   "source": [
    "print('main - linha1')"
   ]
  },
  {
   "cell_type": "code",
   "execution_count": 5,
   "metadata": {},
   "outputs": [
    {
     "name": "stdout",
     "output_type": "stream",
     "text": [
      "main - linha2\n"
     ]
    }
   ],
   "source": [
    "print('main - linha2')"
   ]
  },
  {
   "cell_type": "code",
   "execution_count": 6,
   "metadata": {},
   "outputs": [
    {
     "name": "stdout",
     "output_type": "stream",
     "text": [
      "main - linha3\n"
     ]
    }
   ],
   "source": [
    "print('main - linha3')"
   ]
  },
  {
   "cell_type": "markdown",
   "id": "976b4a82",
   "metadata": {},
   "source": [
    "<span style=\"color:red\">**=======**</span>"
   ]
  },
  {
   "cell_type": "code",
   "execution_count": 1,
   "metadata": {},
   "outputs": [
    {
     "name": "stdout",
     "output_type": "stream",
     "text": [
      "dev - celula1\n"
     ]
    }
   ],
   "source": [
    "print('dev - celula1')"
   ]
  },
  {
   "cell_type": "code",
   "execution_count": 2,
   "metadata": {},
   "outputs": [
    {
     "name": "stdout",
     "output_type": "stream",
     "text": [
      "dev - celula2\n"
     ]
    }
   ],
   "source": [
    "print('dev - celula2')"
   ]
  },
  {
   "cell_type": "code",
   "execution_count": 3,
   "metadata": {},
   "outputs": [
    {
     "name": "stdout",
     "output_type": "stream",
     "text": [
      "dev - celula3\n"
     ]
    }
   ],
   "source": [
    "print('dev - celula3')"
   ]
  },
  {
   "cell_type": "markdown",
   "id": "74aed76e",
   "metadata": {},
   "source": [
    "<span style=\"color:red\">**>>>>>>> remote**</span>"
   ]
  }
 ],
 "metadata": {
  "kernelspec": {
   "display_name": "curso_git",
   "language": "python",
   "name": "python3"
  },
  "language_info": {
   "codemirror_mode": {
    "name": "ipython",
    "version": 3
   },
   "file_extension": ".py",
   "mimetype": "text/x-python",
   "name": "python",
   "nbconvert_exporter": "python",
   "pygments_lexer": "ipython3",
   "version": "3.9.15"
  },
  "vscode": {
   "interpreter": {
    "hash": "8a0b2a10a70c52426eec6ced2df4af35468c55ae300f5760a84099f9591d46fa"
   }
  }
 },
 "nbformat": 4,
 "nbformat_minor": 2
}
